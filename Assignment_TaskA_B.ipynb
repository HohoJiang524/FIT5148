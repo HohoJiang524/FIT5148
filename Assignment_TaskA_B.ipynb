{
 "cells": [
  {
   "cell_type": "markdown",
   "metadata": {},
   "source": [
    "## Step 0: Preparation"
   ]
  },
  {
   "cell_type": "markdown",
   "metadata": {},
   "source": [
    "> **import libraries, csv files**"
   ]
  },
  {
   "cell_type": "code",
   "execution_count": 120,
   "metadata": {},
   "outputs": [],
   "source": [
    "import pymongo\n",
    "from pymongo import MongoClient\n",
    "import pandas as pd\n",
    "from pprint import pprint\n",
    "import datetime"
   ]
  },
  {
   "cell_type": "code",
   "execution_count": 13,
   "metadata": {},
   "outputs": [],
   "source": [
    "hot_df = pd.read_csv(\"datasets/hotspot_historic.csv\")\n",
    "clim_df = pd.read_csv(\"datasets/climate_historic.csv\")"
   ]
  },
  {
   "cell_type": "markdown",
   "metadata": {},
   "source": [
    "> Have a look at data, trying to find the relationship"
   ]
  },
  {
   "cell_type": "code",
   "execution_count": 27,
   "metadata": {},
   "outputs": [
    {
     "data": {
      "text/plain": [
       "(366, (366, 7), array([948700, 948701, 948702]))"
      ]
     },
     "execution_count": 27,
     "metadata": {},
     "output_type": "execute_result"
    }
   ],
   "source": [
    "#hot_df.date.unique()\n",
    "len(clim_df.date.unique()), clim_df.shape, clim_df.station.unique()"
   ]
  },
  {
   "cell_type": "code",
   "execution_count": 33,
   "metadata": {},
   "outputs": [
    {
     "data": {
      "text/plain": [
       "(145, 366)"
      ]
     },
     "execution_count": 33,
     "metadata": {},
     "output_type": "execute_result"
    }
   ],
   "source": [
    "len(hot_df.date.unique()), len(clim_df.date.unique()) "
   ]
  },
  {
   "cell_type": "code",
   "execution_count": 54,
   "metadata": {},
   "outputs": [
    {
     "data": {
      "text/html": [
       "<div>\n",
       "<style scoped>\n",
       "    .dataframe tbody tr th:only-of-type {\n",
       "        vertical-align: middle;\n",
       "    }\n",
       "\n",
       "    .dataframe tbody tr th {\n",
       "        vertical-align: top;\n",
       "    }\n",
       "\n",
       "    .dataframe thead th {\n",
       "        text-align: right;\n",
       "    }\n",
       "</style>\n",
       "<table border=\"1\" class=\"dataframe\">\n",
       "  <thead>\n",
       "    <tr style=\"text-align: right;\">\n",
       "      <th></th>\n",
       "      <th>latitude</th>\n",
       "      <th>longitude</th>\n",
       "      <th>datetime</th>\n",
       "      <th>confidence</th>\n",
       "      <th>date</th>\n",
       "      <th>surface_temperature_celcius</th>\n",
       "    </tr>\n",
       "  </thead>\n",
       "  <tbody>\n",
       "  </tbody>\n",
       "</table>\n",
       "</div>"
      ],
      "text/plain": [
       "Empty DataFrame\n",
       "Columns: [latitude, longitude, datetime, confidence, date, surface_temperature_celcius]\n",
       "Index: []"
      ]
     },
     "execution_count": 54,
     "metadata": {},
     "output_type": "execute_result"
    }
   ],
   "source": [
    "hot_df[hot_df.date == clim_df.date[0]]"
   ]
  },
  {
   "cell_type": "code",
   "execution_count": 47,
   "metadata": {},
   "outputs": [
    {
     "data": {
      "text/html": [
       "<div>\n",
       "<style scoped>\n",
       "    .dataframe tbody tr th:only-of-type {\n",
       "        vertical-align: middle;\n",
       "    }\n",
       "\n",
       "    .dataframe tbody tr th {\n",
       "        vertical-align: top;\n",
       "    }\n",
       "\n",
       "    .dataframe thead th {\n",
       "        text-align: right;\n",
       "    }\n",
       "</style>\n",
       "<table border=\"1\" class=\"dataframe\">\n",
       "  <thead>\n",
       "    <tr style=\"text-align: right;\">\n",
       "      <th></th>\n",
       "      <th>station</th>\n",
       "      <th>date</th>\n",
       "      <th>air_temperature_celcius</th>\n",
       "      <th>relative_humidity</th>\n",
       "      <th>windspeed_knots</th>\n",
       "      <th>max_wind_speed</th>\n",
       "      <th>precipitation</th>\n",
       "    </tr>\n",
       "  </thead>\n",
       "  <tbody>\n",
       "    <tr>\n",
       "      <th>0</th>\n",
       "      <td>948700</td>\n",
       "      <td>31/12/2016</td>\n",
       "      <td>19</td>\n",
       "      <td>56.8</td>\n",
       "      <td>7.9</td>\n",
       "      <td>11.1</td>\n",
       "      <td>0.00I</td>\n",
       "    </tr>\n",
       "    <tr>\n",
       "      <th>1</th>\n",
       "      <td>948700</td>\n",
       "      <td>2/01/2017</td>\n",
       "      <td>15</td>\n",
       "      <td>50.7</td>\n",
       "      <td>9.2</td>\n",
       "      <td>13.0</td>\n",
       "      <td>0.02G</td>\n",
       "    </tr>\n",
       "    <tr>\n",
       "      <th>2</th>\n",
       "      <td>948700</td>\n",
       "      <td>3/01/2017</td>\n",
       "      <td>16</td>\n",
       "      <td>53.6</td>\n",
       "      <td>8.1</td>\n",
       "      <td>15.0</td>\n",
       "      <td>0.00G</td>\n",
       "    </tr>\n",
       "    <tr>\n",
       "      <th>3</th>\n",
       "      <td>948700</td>\n",
       "      <td>4/01/2017</td>\n",
       "      <td>24</td>\n",
       "      <td>61.6</td>\n",
       "      <td>7.7</td>\n",
       "      <td>14.0</td>\n",
       "      <td>0.00I</td>\n",
       "    </tr>\n",
       "    <tr>\n",
       "      <th>4</th>\n",
       "      <td>948700</td>\n",
       "      <td>5/01/2017</td>\n",
       "      <td>24</td>\n",
       "      <td>62.3</td>\n",
       "      <td>7.0</td>\n",
       "      <td>13.0</td>\n",
       "      <td>0.00I</td>\n",
       "    </tr>\n",
       "  </tbody>\n",
       "</table>\n",
       "</div>"
      ],
      "text/plain": [
       "   station        date  air_temperature_celcius  relative_humidity  \\\n",
       "0   948700  31/12/2016                       19               56.8   \n",
       "1   948700   2/01/2017                       15               50.7   \n",
       "2   948700   3/01/2017                       16               53.6   \n",
       "3   948700   4/01/2017                       24               61.6   \n",
       "4   948700   5/01/2017                       24               62.3   \n",
       "\n",
       "   windspeed_knots  max_wind_speed precipitation   \n",
       "0              7.9            11.1          0.00I  \n",
       "1              9.2            13.0          0.02G  \n",
       "2              8.1            15.0          0.00G  \n",
       "3              7.7            14.0          0.00I  \n",
       "4              7.0            13.0          0.00I  "
      ]
     },
     "execution_count": 47,
     "metadata": {},
     "output_type": "execute_result"
    }
   ],
   "source": [
    "clim_df.head()"
   ]
  },
  {
   "cell_type": "markdown",
   "metadata": {},
   "source": [
    "> Three stations, but they are not matters, as the date col doesn't have duplicate data ?"
   ]
  },
  {
   "cell_type": "code",
   "execution_count": 41,
   "metadata": {},
   "outputs": [
    {
     "data": {
      "text/html": [
       "<div>\n",
       "<style scoped>\n",
       "    .dataframe tbody tr th:only-of-type {\n",
       "        vertical-align: middle;\n",
       "    }\n",
       "\n",
       "    .dataframe tbody tr th {\n",
       "        vertical-align: top;\n",
       "    }\n",
       "\n",
       "    .dataframe thead th {\n",
       "        text-align: right;\n",
       "    }\n",
       "</style>\n",
       "<table border=\"1\" class=\"dataframe\">\n",
       "  <thead>\n",
       "    <tr style=\"text-align: right;\">\n",
       "      <th></th>\n",
       "      <th>station</th>\n",
       "      <th>date</th>\n",
       "      <th>air_temperature_celcius</th>\n",
       "      <th>relative_humidity</th>\n",
       "      <th>windspeed_knots</th>\n",
       "      <th>max_wind_speed</th>\n",
       "      <th>precipitation</th>\n",
       "    </tr>\n",
       "  </thead>\n",
       "  <tbody>\n",
       "    <tr>\n",
       "      <th>361</th>\n",
       "      <td>948702</td>\n",
       "      <td>28/12/2017</td>\n",
       "      <td>21</td>\n",
       "      <td>61.1</td>\n",
       "      <td>6.6</td>\n",
       "      <td>11.1</td>\n",
       "      <td>0.00I</td>\n",
       "    </tr>\n",
       "    <tr>\n",
       "      <th>362</th>\n",
       "      <td>948702</td>\n",
       "      <td>29/12/2017</td>\n",
       "      <td>19</td>\n",
       "      <td>59.7</td>\n",
       "      <td>7.4</td>\n",
       "      <td>14.0</td>\n",
       "      <td>0.63G</td>\n",
       "    </tr>\n",
       "    <tr>\n",
       "      <th>363</th>\n",
       "      <td>948702</td>\n",
       "      <td>30/12/2017</td>\n",
       "      <td>16</td>\n",
       "      <td>51.5</td>\n",
       "      <td>8.7</td>\n",
       "      <td>15.0</td>\n",
       "      <td>0.02G</td>\n",
       "    </tr>\n",
       "    <tr>\n",
       "      <th>364</th>\n",
       "      <td>948702</td>\n",
       "      <td>31/12/2017</td>\n",
       "      <td>18</td>\n",
       "      <td>53.6</td>\n",
       "      <td>7.9</td>\n",
       "      <td>15.9</td>\n",
       "      <td>0.00G</td>\n",
       "    </tr>\n",
       "    <tr>\n",
       "      <th>365</th>\n",
       "      <td>948702</td>\n",
       "      <td>1/01/2018</td>\n",
       "      <td>19</td>\n",
       "      <td>52.9</td>\n",
       "      <td>8.1</td>\n",
       "      <td>15.0</td>\n",
       "      <td>0.00I</td>\n",
       "    </tr>\n",
       "  </tbody>\n",
       "</table>\n",
       "</div>"
      ],
      "text/plain": [
       "     station        date  air_temperature_celcius  relative_humidity  \\\n",
       "361   948702  28/12/2017                       21               61.1   \n",
       "362   948702  29/12/2017                       19               59.7   \n",
       "363   948702  30/12/2017                       16               51.5   \n",
       "364   948702  31/12/2017                       18               53.6   \n",
       "365   948702   1/01/2018                       19               52.9   \n",
       "\n",
       "     windspeed_knots  max_wind_speed precipitation   \n",
       "361              6.6            11.1          0.00I  \n",
       "362              7.4            14.0          0.63G  \n",
       "363              8.7            15.0          0.02G  \n",
       "364              7.9            15.9          0.00G  \n",
       "365              8.1            15.0          0.00I  "
      ]
     },
     "execution_count": 41,
     "metadata": {},
     "output_type": "execute_result"
    }
   ],
   "source": [
    "clim_df[clim_df.station==948702].tail(5)"
   ]
  },
  {
   "cell_type": "markdown",
   "metadata": {},
   "source": [
    "## Task A\n",
    "> Aim: data model for querying <br>\n",
    "> Query for two kind of data: hotspot, climate"
   ]
  },
  {
   "cell_type": "code",
   "execution_count": 57,
   "metadata": {},
   "outputs": [],
   "source": [
    "# Check whether all date from hotspot data have climate data\n",
    "for date in hos_df.date.unique():\n",
    "    if date in clim_df.date.unique():\n",
    "        continue\n",
    "    else:\n",
    "        print(\"not matched all\")"
   ]
  },
  {
   "cell_type": "code",
   "execution_count": 18,
   "metadata": {},
   "outputs": [],
   "source": [
    "doc_format = {\n",
    "    \"hotspot\":{\n",
    "        \"latitude\": 0.0,\n",
    "        \"longitude\": 0.0,\n",
    "        \"datetime\": \"\",\n",
    "        \"confidence\": 0,\n",
    "        \"date\": \"\",\n",
    "        \"surface_temperature_celcius\": 0\n",
    "    },\n",
    "    \"climate\":{\n",
    "        \"station\":0,\n",
    "        \"date\":\"\",\n",
    "        \"air_temperature_celcius\":0,\n",
    "        \"relative_humidity\": 0.0,\n",
    "        \"windspeed_knots\": 0.0,\n",
    "        \"max_wind_speed\": 0.0,\n",
    "        \"precipitation\": \"\"\n",
    "    }\n",
    "}\n",
    "\n",
    "doc_format_together = {\n",
    "    \"station\":0,\n",
    "    \"date\":\"\",\n",
    "    \"air_temperature_celcius\":0,\n",
    "    \"relative_humidity\": 0.0,\n",
    "    \"windspeed_knots\": 0.0,\n",
    "    \"max_wind_speed\": 0.0,\n",
    "    \"precipitation\": \"\",\n",
    "    \"hotspot\":{\n",
    "        \"latitude\": 0.0,\n",
    "        \"longitude\": 0.0,\n",
    "        \"datetime\": \"\",\n",
    "        \"confidence\": 0,\n",
    "        \"surface_temperature_celcius\": 0\n",
    "    }\n",
    "}"
   ]
  },
  {
   "cell_type": "markdown",
   "metadata": {},
   "source": [
    "> Connect to MongoDB, create Collections in MongoDB"
   ]
  },
  {
   "cell_type": "code",
   "execution_count": 77,
   "metadata": {},
   "outputs": [],
   "source": [
    "client = MongoClient()"
   ]
  },
  {
   "cell_type": "code",
   "execution_count": 78,
   "metadata": {},
   "outputs": [],
   "source": [
    "# connect to db and if not exits, create it.\n",
    "db = client.assignment"
   ]
  },
  {
   "cell_type": "code",
   "execution_count": 79,
   "metadata": {},
   "outputs": [],
   "source": [
    "# connect to collection and if not exits, create it.\n",
    "collection = db.document"
   ]
  },
  {
   "cell_type": "code",
   "execution_count": 126,
   "metadata": {},
   "outputs": [
    {
     "name": "stdout",
     "output_type": "stream",
     "text": [
      "366\n"
     ]
    }
   ],
   "source": [
    "result = collection.find({})\n",
    "print(len(list(result)))\n",
    "for document in result: \n",
    "    pprint(document)\n",
    "    #pass"
   ]
  },
  {
   "cell_type": "code",
   "execution_count": 101,
   "metadata": {},
   "outputs": [
    {
     "name": "stdout",
     "output_type": "stream",
     "text": [
      "station                      int64\n",
      "date                        object\n",
      "air_temperature_celcius      int64\n",
      "relative_humidity          float64\n",
      "windspeed_knots            float64\n",
      "max_wind_speed             float64\n",
      "precipitation               object\n",
      "dtype: object \n",
      " latitude                       float64\n",
      "longitude                      float64\n",
      "datetime                        object\n",
      "confidence                       int64\n",
      "date                            object\n",
      "surface_temperature_celcius      int64\n",
      "dtype: object\n"
     ]
    }
   ],
   "source": [
    "# Check\n",
    "print(clim_df.dtypes,\"\\n\",hot_df.dtypes)"
   ]
  },
  {
   "cell_type": "code",
   "execution_count": 129,
   "metadata": {},
   "outputs": [],
   "source": [
    "# scan over the climate dataframe, and for each day look for related hospot records\n",
    "for i in range(len(clim_df)):\n",
    "    doc = {}\n",
    "    doc[\"station\"] = int(clim_df.station[i])\n",
    "    doc[\"date\"] = datetime.datetime.strptime(clim_df.date[i], \"%d/%m/%Y\")\n",
    "    doc[\"air_temperature_celcius\"] = int(clim_df.air_temperature_celcius[i])\n",
    "    doc[\"relative_humidity\"] = float(clim_df.relative_humidity[i])\n",
    "    doc[\"windspeed_knots\"] = float(clim_df.windspeed_knots[i])\n",
    "    doc[\"max_wind_speed\"] = float(clim_df.max_wind_speed[i])\n",
    "    doc[\"precipitation \"] = clim_df.at[i, \"precipitation \"]\n",
    "\n",
    "    hot_df_related = hot_df[hot_df.date == date]\n",
    "    doc[\"Hotspots\"] = []\n",
    "    for index, row in hot_df_related.iterrows():\n",
    "        hotspot = {}\n",
    "        hotspot[\"latitude\"] = float(row.latitude)\n",
    "        hotspot[\"longitude\"] = float(row.longitude)\n",
    "        hotspot[\"datetime\"] = datetime.datetime.strptime(row.datetime,\"%Y-%m-%dT%H:%M:%S\")\n",
    "        hotspot[\"confidence\"] = int(row.confidence)\n",
    "        hotspot[\"surface_temperature_celcius\"] = int(row.surface_temperature_celcius)\n",
    "        doc[\"Hotspots\"].append(hotspot)\n",
    "    \n",
    "    result = collection.insert_one(doc)\n",
    "    #print(result.inserted_id)"
   ]
  },
  {
   "cell_type": "code",
   "execution_count": 128,
   "metadata": {},
   "outputs": [
    {
     "name": "stdout",
     "output_type": "stream",
     "text": [
      "2017-12-27T04:16:51\n"
     ]
    },
    {
     "data": {
      "text/plain": [
       "datetime.datetime(2017, 12, 27, 4, 16, 51)"
      ]
     },
     "execution_count": 128,
     "metadata": {},
     "output_type": "execute_result"
    }
   ],
   "source": [
    "print(hot_df.datetime[0])\n",
    "d = datetime.datetime.strptime(clim_df.date[0], \"%d/%m/%Y\")\n",
    "\n",
    "d2 = datetime.datetime.strptime(hot_df.datetime[0],\"%Y-%m-%dT%H:%M:%S\")\n",
    "\n",
    "d2\n",
    "#clim_df.date[i]"
   ]
  },
  {
   "cell_type": "markdown",
   "metadata": {},
   "source": [
    "## Task B"
   ]
  },
  {
   "cell_type": "markdown",
   "metadata": {},
   "source": [
    "> **a**. Find climate data on ​10th December 2017​."
   ]
  },
  {
   "cell_type": "code",
   "execution_count": null,
   "metadata": {},
   "outputs": [],
   "source": []
  },
  {
   "cell_type": "markdown",
   "metadata": {},
   "source": [
    "> **b**. Find the latitude​, ​longitude, surface temperature (​ °C)​, a​ nd ​confidence ​when the surface temperature (°C) was between ​65 °C​ and​ 100 °C​."
   ]
  },
  {
   "cell_type": "code",
   "execution_count": null,
   "metadata": {},
   "outputs": [],
   "source": []
  },
  {
   "cell_type": "markdown",
   "metadata": {},
   "source": [
    "> **c**. Find ​date,​ ​surface temperature (°C), air temperature (°C), relative humidity and max wind speed on​ 15th and 16th of December 2016."
   ]
  },
  {
   "cell_type": "code",
   "execution_count": null,
   "metadata": {},
   "outputs": [],
   "source": []
  },
  {
   "cell_type": "markdown",
   "metadata": {},
   "source": [
    "> **d**. Find ​datetime, air temperature (°C), surface temperature (°C) and ​confidence when the ​confidence i​ s between 80 and 100."
   ]
  },
  {
   "cell_type": "code",
   "execution_count": null,
   "metadata": {},
   "outputs": [],
   "source": []
  },
  {
   "cell_type": "markdown",
   "metadata": {},
   "source": [
    "> **e**. Find the top 10 records with the highest ​surface temperature​ ​(°C)."
   ]
  },
  {
   "cell_type": "code",
   "execution_count": null,
   "metadata": {},
   "outputs": [],
   "source": []
  },
  {
   "cell_type": "markdown",
   "metadata": {},
   "source": [
    "> **f**. Find the number of fire in each day. You are required to only display ​the total number of fire​ a​ nd ​the date​ in the output."
   ]
  },
  {
   "cell_type": "code",
   "execution_count": null,
   "metadata": {},
   "outputs": [],
   "source": []
  },
  {
   "cell_type": "markdown",
   "metadata": {},
   "source": [
    "> **g**. Find the ​average surface temperature ​(°C) f​ or each day​. You are required to only display ​average surface temperature (°C)​ ​and ​the date​ in the output."
   ]
  },
  {
   "cell_type": "code",
   "execution_count": null,
   "metadata": {},
   "outputs": [],
   "source": []
  }
 ],
 "metadata": {
  "kernelspec": {
   "display_name": "Python 3",
   "language": "python",
   "name": "python3"
  },
  "language_info": {
   "codemirror_mode": {
    "name": "ipython",
    "version": 3
   },
   "file_extension": ".py",
   "mimetype": "text/x-python",
   "name": "python",
   "nbconvert_exporter": "python",
   "pygments_lexer": "ipython3",
   "version": "3.6.5"
  }
 },
 "nbformat": 4,
 "nbformat_minor": 2
}
